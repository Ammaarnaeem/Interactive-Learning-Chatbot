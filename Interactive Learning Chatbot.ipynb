{
 "cells": [
  {
   "cell_type": "markdown",
   "metadata": {},
   "source": [
    "# Interactive Learning Chatbot with Gradio Interface"
   ]
  },
  {
   "cell_type": "markdown",
   "metadata": {},
   "source": [
    "### Import necessary libraries"
   ]
  },
  {
   "cell_type": "code",
   "execution_count": null,
   "metadata": {},
   "outputs": [],
   "source": [
    "import json  # For handling JSON data\n",
    "from typing import Dict, Any, Optional  # For type annotations\n",
    "import os  # For interacting with the operating system\n",
    "import gradio as gr  # Gradio library for creating the interface\n",
    "from typing import List, Optional  # Additional typing utilities\n",
    "from difflib import get_close_matches  # Library for string matching\n"
   ]
  },
  {
   "cell_type": "markdown",
   "metadata": {},
   "source": [
    "<h3 id=\"Define a function to load a knowledge base from a JSON file\">Define a function to load a knowledge base from a JSON file.</h3>\n",
    "<p>\n",
    "If the file doesn't exist or is empty, return an empty structure.<br>\n",
    "Otherwise, load and return the contents of the JSON file as a dictionary.</p>"
   ]
  },
  {
   "cell_type": "code",
   "execution_count": 2,
   "metadata": {},
   "outputs": [],
   "source": [
    "def load_knowledge_base(filename: str) -> Dict[str, Any]:\n",
    "    if not os.path.exists(filename) or os.stat(filename).st_size == 0:\n",
    "        return {\"questions\": []}\n",
    "    with open(filename, 'r') as file:\n",
    "        return json.load(file)"
   ]
  },
  {
   "cell_type": "markdown",
   "metadata": {},
   "source": [
    "<h3 id=\"Define a function to save knowledge base from a JSON file\">Define a function to save knowledge base from a JSON file.</h3>\n",
    "<p>\n",
    "Serialize the knowledge_base dictionary to JSON format with indentation for readability<br>\n",
    "and write it to the specified filename..</p>"
   ]
  },
  {
   "cell_type": "code",
   "execution_count": 3,
   "metadata": {},
   "outputs": [],
   "source": [
    "def save_knowledge_base(filename: str, knowledge_base: Dict[str, Any]):\n",
    "    with open(filename, 'w') as file:\n",
    "        json.dump(knowledge_base, file, indent=2)"
   ]
  },
  {
   "cell_type": "markdown",
   "metadata": {},
   "source": [
    "<h3 id=\"Define a function to find the best match for a user question in a list of questions.\">Define a function to find the best match for a user question in a list of questions..</h3>\n",
    "<p>\n",
    "Uses difflib's get_close_matches to find the closest match to user_question in questions.<br>\n",
    "Returns the best match if found, otherwise returns None</p>"
   ]
  },
  {
   "cell_type": "code",
   "execution_count": 6,
   "metadata": {},
   "outputs": [],
   "source": [
    "def find_best_match(user_question: str, questions: List[str]) -> Optional[str]:\n",
    "    matches: List[str] = get_close_matches(user_question, questions, n=1, cutoff=0.6)\n",
    "    return matches[0] if matches else None"
   ]
  },
  {
   "cell_type": "markdown",
   "metadata": {},
   "source": [
    "<h3 id=\"Define a function to retrieve the answer for a specific question from the knowledge base.\">Define a function to retrieve the answer for a specific question from the knowledge base.</h3>\n",
    "<p>\n",
    "Searches through the questions in knowledge_base and returns the answer corresponding to the question if found.<br>\n",
    "Returns None if the question is not found in the knowledge base.</p>"
   ]
  },
  {
   "cell_type": "code",
   "execution_count": 7,
   "metadata": {},
   "outputs": [],
   "source": [
    "def get_answer_for_question(question: str, knowledge_base: Dict[str, Any]) -> Optional[str]:\n",
    "    for q in knowledge_base[\"questions\"]:\n",
    "        if q[\"question\"] == question:\n",
    "            return q[\"answer\"]\n",
    "    return None"
   ]
  },
  {
   "cell_type": "markdown",
   "metadata": {},
   "source": [
    "<h3 id=\"Define a function for the chatbot that interacts based on user input and updates knowledge base.\">Define a function for the chatbot that interacts based on user input and updates knowledge base.</h3>\n",
    "<p>\n",
    "Loads knowledge base from 'knowledge_base.json', checks if user wants to quit, finds best match<br>\n",
    "for user input in existing questions, retrieves answer if found, or learns a new response if no match.<br>\n",
    "Updates and saves knowledge base if new response is provided and not skipped.</p>"
   ]
  },
  {
   "cell_type": "code",
   "execution_count": 8,
   "metadata": {},
   "outputs": [],
   "source": [
    "def gradio_chatbot(user_input: str, new_answer: str = \"\") -> str:\n",
    "    knowledge_base: Dict[str, Any] = load_knowledge_base('knowledge_base.json')\n",
    "    \n",
    "    if user_input.lower() == 'quit':\n",
    "        return 'Goodbye!'\n",
    "    \n",
    "    best_match = find_best_match(user_input, [q[\"question\"] for q in knowledge_base[\"questions\"]])\n",
    "    \n",
    "    if best_match:\n",
    "        answer = get_answer_for_question(best_match, knowledge_base)\n",
    "        return f'Bot: {answer}'\n",
    "    else:\n",
    "        if new_answer.lower() != 'skip' and new_answer:\n",
    "            knowledge_base[\"questions\"].append({\"question\": user_input, \"answer\": new_answer})\n",
    "            save_knowledge_base('knowledge_base.json', knowledge_base)\n",
    "            return 'Bot: Thank you! I learned a new response!'\n",
    "        else:\n",
    "            return 'Bot: I don\\'t know the answer. Can you teach me?'"
   ]
  },
  {
   "cell_type": "markdown",
   "metadata": {},
   "source": [
    "### Creating a Gradio interface for the chatbot using gr.Interface."
   ]
  },
  {
   "cell_type": "code",
   "execution_count": null,
   "metadata": {},
   "outputs": [],
   "source": [
    "iface = gr.Interface(\n",
    "    fn=gradio_chatbot,  # Function to be called on user input\n",
    "    inputs=[\"text\", \"text\"],  # Two text input fields for user question and new answer\n",
    "    outputs=\"text\",  # Output field for displaying bot's response\n",
    "    title=\"Chatbot with Learning Capability\",  # Title displayed on the interface\n",
    "    description=\"Enter your question in the first input. If the bot doesn't know the answer, \"\n",
    "                \"you can teach it by providing an answer in the second input. Type 'quit' to exit.\"  # Description of how to use the chatbot\n",
    ")"
   ]
  },
  {
   "cell_type": "code",
   "execution_count": null,
   "metadata": {},
   "outputs": [],
   "source": [
    "iface.launch()"
   ]
  }
 ],
 "metadata": {
  "kernelspec": {
   "display_name": "Python 3",
   "language": "python",
   "name": "python3"
  },
  "language_info": {
   "codemirror_mode": {
    "name": "ipython",
    "version": 3
   },
   "file_extension": ".py",
   "mimetype": "text/x-python",
   "name": "python",
   "nbconvert_exporter": "python",
   "pygments_lexer": "ipython3",
   "version": "3.8.5"
  }
 },
 "nbformat": 4,
 "nbformat_minor": 4
}
